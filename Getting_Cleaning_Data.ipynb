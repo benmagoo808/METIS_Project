{
 "cells": [
  {
   "cell_type": "markdown",
   "metadata": {},
   "source": [
    "### Import our libraries"
   ]
  },
  {
   "cell_type": "code",
   "execution_count": 1,
   "metadata": {
    "collapsed": true
   },
   "outputs": [],
   "source": [
    "import pandas as pd\n",
    "import numpy as np\n",
    "import seaborn as sns\n",
    "import matplotlib.pyplot as plt\n",
    "%matplotlib inline "
   ]
  },
  {
   "cell_type": "markdown",
   "metadata": {},
   "source": [
    "### Read our csv files into a dataframe"
   ]
  },
  {
   "cell_type": "code",
   "execution_count": 101,
   "metadata": {},
   "outputs": [
    {
     "name": "stderr",
     "output_type": "stream",
     "text": [
      "/Users/BenM/anaconda/lib/python3.6/site-packages/IPython/core/interactiveshell.py:2717: DtypeWarning: Columns (0) have mixed types. Specify dtype option on import or set low_memory=False.\n",
      "  interactivity=interactivity, compiler=compiler, result=result)\n"
     ]
    }
   ],
   "source": [
    "rawCallData = pd.read_csv('Data/Seattle_Police_Department_911_Incident_Response.csv')\n",
    "\n",
    "rawWeatherData = pd.read_csv('Data/Seattle_Weather.csv')\n",
    "\n",
    "rawEventData = pd.read_csv('Data/Special_Events_Permits.csv')"
   ]
  },
  {
   "cell_type": "markdown",
   "metadata": {},
   "source": [
    "### Lets take a look at our data frames to see what we've got "
   ]
  },
  {
   "cell_type": "code",
   "execution_count": 77,
   "metadata": {},
   "outputs": [
    {
     "data": {
      "text/html": [
       "<div>\n",
       "<table border=\"1\" class=\"dataframe\">\n",
       "  <thead>\n",
       "    <tr style=\"text-align: right;\">\n",
       "      <th></th>\n",
       "      <th>CAD CDW ID</th>\n",
       "      <th>CAD Event Number</th>\n",
       "      <th>General Offense Number</th>\n",
       "      <th>Event Clearance Code</th>\n",
       "      <th>Event Clearance Description</th>\n",
       "      <th>Event Clearance SubGroup</th>\n",
       "      <th>Event Clearance Group</th>\n",
       "      <th>Event Clearance Date</th>\n",
       "      <th>Hundred Block Location</th>\n",
       "      <th>District/Sector</th>\n",
       "      <th>Zone/Beat</th>\n",
       "      <th>Census Tract</th>\n",
       "      <th>Longitude</th>\n",
       "      <th>Latitude</th>\n",
       "      <th>Incident Location</th>\n",
       "      <th>Initial Type Description</th>\n",
       "      <th>Initial Type Subgroup</th>\n",
       "      <th>Initial Type Group</th>\n",
       "      <th>At Scene Time</th>\n",
       "    </tr>\n",
       "  </thead>\n",
       "  <tbody>\n",
       "    <tr>\n",
       "      <th>0</th>\n",
       "      <td>﻿15736</td>\n",
       "      <td>10000246357</td>\n",
       "      <td>2010246357</td>\n",
       "      <td>242.0</td>\n",
       "      <td>FIGHT DISTURBANCE</td>\n",
       "      <td>DISTURBANCES</td>\n",
       "      <td>DISTURBANCES</td>\n",
       "      <td>07/17/2010 08:49:00 PM</td>\n",
       "      <td>3XX BLOCK OF PINE ST</td>\n",
       "      <td>M</td>\n",
       "      <td>M2</td>\n",
       "      <td>8100.2001</td>\n",
       "      <td>-122.338147</td>\n",
       "      <td>47.610975</td>\n",
       "      <td>(47.610975163, -122.338146748)</td>\n",
       "      <td>NaN</td>\n",
       "      <td>NaN</td>\n",
       "      <td>NaN</td>\n",
       "      <td>NaN</td>\n",
       "    </tr>\n",
       "    <tr>\n",
       "      <th>1</th>\n",
       "      <td>15737</td>\n",
       "      <td>10000246471</td>\n",
       "      <td>2010246471</td>\n",
       "      <td>65.0</td>\n",
       "      <td>THEFT - MISCELLANEOUS</td>\n",
       "      <td>THEFT</td>\n",
       "      <td>OTHER PROPERTY</td>\n",
       "      <td>07/17/2010 08:50:00 PM</td>\n",
       "      <td>36XX BLOCK OF DISCOVERY PARK BLVD</td>\n",
       "      <td>Q</td>\n",
       "      <td>Q1</td>\n",
       "      <td>5700.1012</td>\n",
       "      <td>-122.404613</td>\n",
       "      <td>47.658325</td>\n",
       "      <td>(47.658324899, -122.404612874)</td>\n",
       "      <td>NaN</td>\n",
       "      <td>NaN</td>\n",
       "      <td>NaN</td>\n",
       "      <td>NaN</td>\n",
       "    </tr>\n",
       "    <tr>\n",
       "      <th>2</th>\n",
       "      <td>15738</td>\n",
       "      <td>10000246255</td>\n",
       "      <td>2010246255</td>\n",
       "      <td>250.0</td>\n",
       "      <td>MISCHIEF, NUISANCE COMPLAINTS</td>\n",
       "      <td>NUISANCE, MISCHIEF COMPLAINTS</td>\n",
       "      <td>NUISANCE, MISCHIEF</td>\n",
       "      <td>07/17/2010 08:55:00 PM</td>\n",
       "      <td>21XX BLOCK OF 3RD AVE</td>\n",
       "      <td>M</td>\n",
       "      <td>M2</td>\n",
       "      <td>7200.2025</td>\n",
       "      <td>-122.342843</td>\n",
       "      <td>47.613551</td>\n",
       "      <td>(47.613551471, -122.342843234)</td>\n",
       "      <td>NaN</td>\n",
       "      <td>NaN</td>\n",
       "      <td>NaN</td>\n",
       "      <td>NaN</td>\n",
       "    </tr>\n",
       "    <tr>\n",
       "      <th>3</th>\n",
       "      <td>15739</td>\n",
       "      <td>10000246473</td>\n",
       "      <td>2010246473</td>\n",
       "      <td>460.0</td>\n",
       "      <td>TRAFFIC (MOVING) VIOLATION</td>\n",
       "      <td>TRAFFIC RELATED CALLS</td>\n",
       "      <td>TRAFFIC RELATED CALLS</td>\n",
       "      <td>07/17/2010 09:00:00 PM</td>\n",
       "      <td>7XX BLOCK OF ROY ST</td>\n",
       "      <td>D</td>\n",
       "      <td>D1</td>\n",
       "      <td>7200.1002</td>\n",
       "      <td>-122.341847</td>\n",
       "      <td>47.625401</td>\n",
       "      <td>(47.625401388, -122.341846999)</td>\n",
       "      <td>NaN</td>\n",
       "      <td>NaN</td>\n",
       "      <td>NaN</td>\n",
       "      <td>NaN</td>\n",
       "    </tr>\n",
       "    <tr>\n",
       "      <th>4</th>\n",
       "      <td>15740</td>\n",
       "      <td>10000246330</td>\n",
       "      <td>2010246330</td>\n",
       "      <td>250.0</td>\n",
       "      <td>MISCHIEF, NUISANCE COMPLAINTS</td>\n",
       "      <td>NUISANCE, MISCHIEF COMPLAINTS</td>\n",
       "      <td>NUISANCE, MISCHIEF</td>\n",
       "      <td>07/17/2010 09:00:00 PM</td>\n",
       "      <td>9XX BLOCK OF ALOHA ST</td>\n",
       "      <td>D</td>\n",
       "      <td>D1</td>\n",
       "      <td>6700.1009</td>\n",
       "      <td>-122.339709</td>\n",
       "      <td>47.627425</td>\n",
       "      <td>(47.627424837, -122.339708605)</td>\n",
       "      <td>NaN</td>\n",
       "      <td>NaN</td>\n",
       "      <td>NaN</td>\n",
       "      <td>NaN</td>\n",
       "    </tr>\n",
       "  </tbody>\n",
       "</table>\n",
       "</div>"
      ],
      "text/plain": [
       "  CAD CDW ID  CAD Event Number  General Offense Number  Event Clearance Code  \\\n",
       "0     ﻿15736       10000246357              2010246357                 242.0   \n",
       "1      15737       10000246471              2010246471                  65.0   \n",
       "2      15738       10000246255              2010246255                 250.0   \n",
       "3      15739       10000246473              2010246473                 460.0   \n",
       "4      15740       10000246330              2010246330                 250.0   \n",
       "\n",
       "     Event Clearance Description       Event Clearance SubGroup  \\\n",
       "0              FIGHT DISTURBANCE                   DISTURBANCES   \n",
       "1          THEFT - MISCELLANEOUS                          THEFT   \n",
       "2  MISCHIEF, NUISANCE COMPLAINTS  NUISANCE, MISCHIEF COMPLAINTS   \n",
       "3     TRAFFIC (MOVING) VIOLATION          TRAFFIC RELATED CALLS   \n",
       "4  MISCHIEF, NUISANCE COMPLAINTS  NUISANCE, MISCHIEF COMPLAINTS   \n",
       "\n",
       "   Event Clearance Group    Event Clearance Date  \\\n",
       "0           DISTURBANCES  07/17/2010 08:49:00 PM   \n",
       "1         OTHER PROPERTY  07/17/2010 08:50:00 PM   \n",
       "2    NUISANCE, MISCHIEF   07/17/2010 08:55:00 PM   \n",
       "3  TRAFFIC RELATED CALLS  07/17/2010 09:00:00 PM   \n",
       "4    NUISANCE, MISCHIEF   07/17/2010 09:00:00 PM   \n",
       "\n",
       "              Hundred Block Location District/Sector Zone/Beat  Census Tract  \\\n",
       "0               3XX BLOCK OF PINE ST               M        M2     8100.2001   \n",
       "1  36XX BLOCK OF DISCOVERY PARK BLVD               Q        Q1     5700.1012   \n",
       "2              21XX BLOCK OF 3RD AVE               M        M2     7200.2025   \n",
       "3                7XX BLOCK OF ROY ST               D        D1     7200.1002   \n",
       "4              9XX BLOCK OF ALOHA ST               D        D1     6700.1009   \n",
       "\n",
       "    Longitude   Latitude               Incident Location  \\\n",
       "0 -122.338147  47.610975  (47.610975163, -122.338146748)   \n",
       "1 -122.404613  47.658325  (47.658324899, -122.404612874)   \n",
       "2 -122.342843  47.613551  (47.613551471, -122.342843234)   \n",
       "3 -122.341847  47.625401  (47.625401388, -122.341846999)   \n",
       "4 -122.339709  47.627425  (47.627424837, -122.339708605)   \n",
       "\n",
       "  Initial Type Description Initial Type Subgroup Initial Type Group  \\\n",
       "0                      NaN                   NaN                NaN   \n",
       "1                      NaN                   NaN                NaN   \n",
       "2                      NaN                   NaN                NaN   \n",
       "3                      NaN                   NaN                NaN   \n",
       "4                      NaN                   NaN                NaN   \n",
       "\n",
       "  At Scene Time  \n",
       "0           NaN  \n",
       "1           NaN  \n",
       "2           NaN  \n",
       "3           NaN  \n",
       "4           NaN  "
      ]
     },
     "execution_count": 77,
     "metadata": {},
     "output_type": "execute_result"
    }
   ],
   "source": [
    "rawCallData.head()"
   ]
  },
  {
   "cell_type": "markdown",
   "metadata": {},
   "source": [
    "### Let's start by cleaning up those column names"
   ]
  },
  {
   "cell_type": "code",
   "execution_count": 102,
   "metadata": {},
   "outputs": [
    {
     "data": {
      "text/plain": [
       "Index(['cad_cdw_id', 'cad_event_number', 'general_offense_number',\n",
       "       'event_clearance_code', 'event_clearance_description',\n",
       "       'event_clearance_subgroup', 'event_clearance_group',\n",
       "       'event_clearance_date', 'hundred_block_location', 'district_sector',\n",
       "       'zone_beat', 'census_tract', 'longitude', 'latitude',\n",
       "       'incident_location', 'initial_type_description',\n",
       "       'initial_type_subgroup', 'initial_type_group', 'at_scene_time'],\n",
       "      dtype='object')"
      ]
     },
     "execution_count": 102,
     "metadata": {},
     "output_type": "execute_result"
    }
   ],
   "source": [
    "rawCallData.columns = rawCallData.columns.str.lower().str.replace(\" \", \"_\").str.replace(\"/\", \"_\") \n",
    "# Remove the white space and slashes in our column names\n",
    "rawCallData.columns # Check our work"
   ]
  },
  {
   "cell_type": "markdown",
   "metadata": {},
   "source": [
    "### Thats better, now lets examine the NaN values"
   ]
  },
  {
   "cell_type": "code",
   "execution_count": 79,
   "metadata": {},
   "outputs": [
    {
     "name": "stdout",
     "output_type": "stream",
     "text": [
      "cad_cdw_id                           0\n",
      "cad_event_number                     0\n",
      "general_offense_number               0\n",
      "event_clearance_code             10797\n",
      "event_clearance_description      10798\n",
      "event_clearance_subgroup         10798\n",
      "event_clearance_group            10798\n",
      "event_clearance_date             10951\n",
      "hundred_block_location            3487\n",
      "district_sector                   1162\n",
      "zone_beat                            1\n",
      "census_tract                      2792\n",
      "longitude                            1\n",
      "latitude                             1\n",
      "incident_location                    1\n",
      "initial_type_description        577813\n",
      "initial_type_subgroup           577813\n",
      "initial_type_group              577813\n",
      "at_scene_time                  1029344\n",
      "dtype: int64\n"
     ]
    }
   ],
   "source": [
    "print(rawCallData.isnull().sum())"
   ]
  },
  {
   "cell_type": "markdown",
   "metadata": {},
   "source": [
    "### We have a significant number of records missing some information\n",
    "They seem to be clustered. There is a cluster of 10,790+ records missing event data, 577,813 records missing initial data and most of the records are missing the at scene time. The event clearance and initial type columns seem to all describe the same data, what the call was about. The at scene time and call clearance date similiarly overlap. The bad news is, most of the missing data pertains to what we care about, which is what happened and when. They good news is these columns seem to provide redundant information, so we can use one to impute the other. Let's see if there are any that provide no relevant information."
   ]
  },
  {
   "cell_type": "code",
   "execution_count": 103,
   "metadata": {},
   "outputs": [
    {
     "name": "stdout",
     "output_type": "stream",
     "text": [
      "(931, 19)\n",
      "931\n",
      "931\n"
     ]
    }
   ],
   "source": [
    "mask = (rawCallData.event_clearance_code.isnull() == True)  & (rawCallData.initial_type_subgroup.isnull() == True)\n",
    "noEvent = rawCallData[mask] # See if we have any NaN in both description and intitial \n",
    "print(noEvent.shape)\n",
    "print(len(noEvent.event_clearance_subgroup.isnull())) # Verify if they all miss clearance subgroup as well\n",
    "print(len(noEvent.initial_type_subgroup.isnull())) # Verify if they all miss initial subgroup as well"
   ]
  },
  {
   "cell_type": "markdown",
   "metadata": {},
   "source": [
    "### We have 931 records with no event descriptor, we will have to remove them"
   ]
  },
  {
   "cell_type": "code",
   "execution_count": 106,
   "metadata": {},
   "outputs": [
    {
     "name": "stdout",
     "output_type": "stream",
     "text": [
      "(1444135, 19)\n",
      "(1444135, 19)\n"
     ]
    }
   ],
   "source": [
    "print(rawCallData.shape)\n",
    "tempDF = rawCallData.merge(noEvent, how='left', indicator=True) # Merge our subset and original with an indicator column\n",
    "tempDF = tempDF[tempDF['_merge'] == 'left_only'] # Select those which are not duplicated\n",
    "rawCallData = tempDF # Make that change to our original DF\n",
    "del rawCallData['_merge'] # Clean up\n",
    "del tempDF\n",
    "print(rawCallData.shape) # Verify our subtraction"
   ]
  },
  {
   "cell_type": "markdown",
   "metadata": {},
   "source": [
    "### Now we can start to add clearance codes for the records that have a description but no code\n",
    "We will start by finding initial type descriptions that share an exact match with an event clearance description. Then we will use that shared description to find the code and impute it on the records with only an initial description."
   ]
  },
  {
   "cell_type": "code",
   "execution_count": 124,
   "metadata": {},
   "outputs": [
    {
     "data": {
      "text/plain": [
       "array(['ABANDONED VEHICLE', 'AUTO RECOVERY', 'GAMBLING',\n",
       "       'HARBOR - WATER EMERGENCIES', 'PROWLER',\n",
       "       'SEX OFFENDER - FAILURE TO REGISTER', 'TRESPASS'], dtype=object)"
      ]
     },
     "execution_count": 124,
     "metadata": {},
     "output_type": "execute_result"
    }
   ],
   "source": [
    "initDesc = rawCallData.initial_type_description.dropna().unique() # Generate lists of the unique descriptions \n",
    "eventDesc = rawCallData.event_clearance_description.dropna().unique()\n",
    "sharedDesc = np.intersect1d(initDesc, eventDesc) # Find our overlap\n",
    "sharedDesc # This is not a very encouraging list length\n"
   ]
  },
  {
   "cell_type": "markdown",
   "metadata": {},
   "source": [
    "### To find our codes\n",
    "We will run a loop that looks up the first value in the series of clearance codes generated for each match between our list of overlapping codes sharedDesc and rawCallData.event_clearance_description, save that to a list and then create a dictionary of key value pairs from our description array, sharedDesc and our codes list descCode."
   ]
  },
  {
   "cell_type": "code",
   "execution_count": 127,
   "metadata": {
    "collapsed": true
   },
   "outputs": [],
   "source": [
    "descCode = []\n",
    "for i in sharedDesc:\n",
    "    descCode.append(rawCallData.loc[rawCallData['event_clearance_description'] == i, 'event_clearance_code'].iloc[0])\n",
    "\n",
    "codeDict = dict(zip(sharedDesc, descCode))"
   ]
  },
  {
   "cell_type": "code",
   "execution_count": 128,
   "metadata": {},
   "outputs": [
    {
     "data": {
      "text/plain": [
       "{'ABANDONED VEHICLE': 410.0,\n",
       " 'AUTO RECOVERY': 73.0,\n",
       " 'GAMBLING': 121.0,\n",
       " 'HARBOR - WATER EMERGENCIES': 342.0,\n",
       " 'PROWLER': 160.0,\n",
       " 'SEX OFFENDER - FAILURE TO REGISTER': 143.0,\n",
       " 'TRESPASS': 161.0}"
      ]
     },
     "execution_count": 128,
     "metadata": {},
     "output_type": "execute_result"
    }
   ],
   "source": [
    "codeDict"
   ]
  },
  {
   "cell_type": "code",
   "execution_count": 130,
   "metadata": {},
   "outputs": [],
   "source": [
    "rawCallData['event_clearance_code'] = rawCallData['initial_type_description'].map(codeDict)"
   ]
  },
  {
   "cell_type": "code",
   "execution_count": 131,
   "metadata": {},
   "outputs": [
    {
     "data": {
      "text/plain": [
       "1407869"
      ]
     },
     "execution_count": 131,
     "metadata": {},
     "output_type": "execute_result"
    }
   ],
   "source": [
    "rawCallData.event_clearance_code.isnull().sum()"
   ]
  }
 ],
 "metadata": {
  "kernelspec": {
   "display_name": "Python 3",
   "language": "python",
   "name": "python3"
  },
  "language_info": {
   "codemirror_mode": {
    "name": "ipython",
    "version": 3
   },
   "file_extension": ".py",
   "mimetype": "text/x-python",
   "name": "python",
   "nbconvert_exporter": "python",
   "pygments_lexer": "ipython3",
   "version": "3.6.0"
  }
 },
 "nbformat": 4,
 "nbformat_minor": 2
}

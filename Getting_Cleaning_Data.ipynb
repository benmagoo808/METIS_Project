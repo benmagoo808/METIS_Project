{
 "cells": [
  {
   "cell_type": "markdown",
   "metadata": {},
   "source": [
    "### Import our libraries"
   ]
  },
  {
   "cell_type": "code",
   "execution_count": 1,
   "metadata": {
    "collapsed": true
   },
   "outputs": [],
   "source": [
    "import pandas as pd\n",
    "import numpy as np\n",
    "import seaborn as sns\n",
    "import matplotlib.pyplot as plt\n",
    "%matplotlib inline "
   ]
  },
  {
   "cell_type": "markdown",
   "metadata": {},
   "source": [
    "### Read our csv files into a dataframe"
   ]
  },
  {
   "cell_type": "code",
   "execution_count": null,
   "metadata": {
    "collapsed": true
   },
   "outputs": [],
   "source": [
    "rawCallData = pd.read_csv('Data/Seattle_Police_Department_911_Incident_Response.csv')"
   ]
  },
  {
   "cell_type": "code",
   "execution_count": 46,
   "metadata": {},
   "outputs": [],
   "source": [
    "rawWeatherData = pd.read_csv('Data/Seattle_Weather.csv')\n",
    "\n",
    "rawEventData = pd.read_csv('Data/Special_Events_Permits.csv')"
   ]
  },
  {
   "cell_type": "markdown",
   "metadata": {},
   "source": [
    "### Lets take a look at our data frames to see what we've got "
   ]
  },
  {
   "cell_type": "code",
   "execution_count": 3,
   "metadata": {},
   "outputs": [
    {
     "data": {
      "text/html": [
       "<div>\n",
       "<table border=\"1\" class=\"dataframe\">\n",
       "  <thead>\n",
       "    <tr style=\"text-align: right;\">\n",
       "      <th></th>\n",
       "      <th>CAD CDW ID</th>\n",
       "      <th>CAD Event Number</th>\n",
       "      <th>General Offense Number</th>\n",
       "      <th>Event Clearance Code</th>\n",
       "      <th>Event Clearance Description</th>\n",
       "      <th>Event Clearance SubGroup</th>\n",
       "      <th>Event Clearance Group</th>\n",
       "      <th>Event Clearance Date</th>\n",
       "      <th>Hundred Block Location</th>\n",
       "      <th>District/Sector</th>\n",
       "      <th>Zone/Beat</th>\n",
       "      <th>Census Tract</th>\n",
       "      <th>Longitude</th>\n",
       "      <th>Latitude</th>\n",
       "      <th>Incident Location</th>\n",
       "      <th>Initial Type Description</th>\n",
       "      <th>Initial Type Subgroup</th>\n",
       "      <th>Initial Type Group</th>\n",
       "      <th>At Scene Time</th>\n",
       "    </tr>\n",
       "  </thead>\n",
       "  <tbody>\n",
       "    <tr>\n",
       "      <th>0</th>\n",
       "      <td>﻿15736</td>\n",
       "      <td>10000246357</td>\n",
       "      <td>2010246357</td>\n",
       "      <td>242.0</td>\n",
       "      <td>FIGHT DISTURBANCE</td>\n",
       "      <td>DISTURBANCES</td>\n",
       "      <td>DISTURBANCES</td>\n",
       "      <td>07/17/2010 08:49:00 PM</td>\n",
       "      <td>3XX BLOCK OF PINE ST</td>\n",
       "      <td>M</td>\n",
       "      <td>M2</td>\n",
       "      <td>8100.2001</td>\n",
       "      <td>-122.338147</td>\n",
       "      <td>47.610975</td>\n",
       "      <td>(47.610975163, -122.338146748)</td>\n",
       "      <td>NaN</td>\n",
       "      <td>NaN</td>\n",
       "      <td>NaN</td>\n",
       "      <td>NaN</td>\n",
       "    </tr>\n",
       "    <tr>\n",
       "      <th>1</th>\n",
       "      <td>15737</td>\n",
       "      <td>10000246471</td>\n",
       "      <td>2010246471</td>\n",
       "      <td>65.0</td>\n",
       "      <td>THEFT - MISCELLANEOUS</td>\n",
       "      <td>THEFT</td>\n",
       "      <td>OTHER PROPERTY</td>\n",
       "      <td>07/17/2010 08:50:00 PM</td>\n",
       "      <td>36XX BLOCK OF DISCOVERY PARK BLVD</td>\n",
       "      <td>Q</td>\n",
       "      <td>Q1</td>\n",
       "      <td>5700.1012</td>\n",
       "      <td>-122.404613</td>\n",
       "      <td>47.658325</td>\n",
       "      <td>(47.658324899, -122.404612874)</td>\n",
       "      <td>NaN</td>\n",
       "      <td>NaN</td>\n",
       "      <td>NaN</td>\n",
       "      <td>NaN</td>\n",
       "    </tr>\n",
       "    <tr>\n",
       "      <th>2</th>\n",
       "      <td>15738</td>\n",
       "      <td>10000246255</td>\n",
       "      <td>2010246255</td>\n",
       "      <td>250.0</td>\n",
       "      <td>MISCHIEF, NUISANCE COMPLAINTS</td>\n",
       "      <td>NUISANCE, MISCHIEF COMPLAINTS</td>\n",
       "      <td>NUISANCE, MISCHIEF</td>\n",
       "      <td>07/17/2010 08:55:00 PM</td>\n",
       "      <td>21XX BLOCK OF 3RD AVE</td>\n",
       "      <td>M</td>\n",
       "      <td>M2</td>\n",
       "      <td>7200.2025</td>\n",
       "      <td>-122.342843</td>\n",
       "      <td>47.613551</td>\n",
       "      <td>(47.613551471, -122.342843234)</td>\n",
       "      <td>NaN</td>\n",
       "      <td>NaN</td>\n",
       "      <td>NaN</td>\n",
       "      <td>NaN</td>\n",
       "    </tr>\n",
       "    <tr>\n",
       "      <th>3</th>\n",
       "      <td>15739</td>\n",
       "      <td>10000246473</td>\n",
       "      <td>2010246473</td>\n",
       "      <td>460.0</td>\n",
       "      <td>TRAFFIC (MOVING) VIOLATION</td>\n",
       "      <td>TRAFFIC RELATED CALLS</td>\n",
       "      <td>TRAFFIC RELATED CALLS</td>\n",
       "      <td>07/17/2010 09:00:00 PM</td>\n",
       "      <td>7XX BLOCK OF ROY ST</td>\n",
       "      <td>D</td>\n",
       "      <td>D1</td>\n",
       "      <td>7200.1002</td>\n",
       "      <td>-122.341847</td>\n",
       "      <td>47.625401</td>\n",
       "      <td>(47.625401388, -122.341846999)</td>\n",
       "      <td>NaN</td>\n",
       "      <td>NaN</td>\n",
       "      <td>NaN</td>\n",
       "      <td>NaN</td>\n",
       "    </tr>\n",
       "    <tr>\n",
       "      <th>4</th>\n",
       "      <td>15740</td>\n",
       "      <td>10000246330</td>\n",
       "      <td>2010246330</td>\n",
       "      <td>250.0</td>\n",
       "      <td>MISCHIEF, NUISANCE COMPLAINTS</td>\n",
       "      <td>NUISANCE, MISCHIEF COMPLAINTS</td>\n",
       "      <td>NUISANCE, MISCHIEF</td>\n",
       "      <td>07/17/2010 09:00:00 PM</td>\n",
       "      <td>9XX BLOCK OF ALOHA ST</td>\n",
       "      <td>D</td>\n",
       "      <td>D1</td>\n",
       "      <td>6700.1009</td>\n",
       "      <td>-122.339709</td>\n",
       "      <td>47.627425</td>\n",
       "      <td>(47.627424837, -122.339708605)</td>\n",
       "      <td>NaN</td>\n",
       "      <td>NaN</td>\n",
       "      <td>NaN</td>\n",
       "      <td>NaN</td>\n",
       "    </tr>\n",
       "  </tbody>\n",
       "</table>\n",
       "</div>"
      ],
      "text/plain": [
       "  CAD CDW ID  CAD Event Number  General Offense Number  Event Clearance Code  \\\n",
       "0     ﻿15736       10000246357              2010246357                 242.0   \n",
       "1      15737       10000246471              2010246471                  65.0   \n",
       "2      15738       10000246255              2010246255                 250.0   \n",
       "3      15739       10000246473              2010246473                 460.0   \n",
       "4      15740       10000246330              2010246330                 250.0   \n",
       "\n",
       "     Event Clearance Description       Event Clearance SubGroup  \\\n",
       "0              FIGHT DISTURBANCE                   DISTURBANCES   \n",
       "1          THEFT - MISCELLANEOUS                          THEFT   \n",
       "2  MISCHIEF, NUISANCE COMPLAINTS  NUISANCE, MISCHIEF COMPLAINTS   \n",
       "3     TRAFFIC (MOVING) VIOLATION          TRAFFIC RELATED CALLS   \n",
       "4  MISCHIEF, NUISANCE COMPLAINTS  NUISANCE, MISCHIEF COMPLAINTS   \n",
       "\n",
       "   Event Clearance Group    Event Clearance Date  \\\n",
       "0           DISTURBANCES  07/17/2010 08:49:00 PM   \n",
       "1         OTHER PROPERTY  07/17/2010 08:50:00 PM   \n",
       "2    NUISANCE, MISCHIEF   07/17/2010 08:55:00 PM   \n",
       "3  TRAFFIC RELATED CALLS  07/17/2010 09:00:00 PM   \n",
       "4    NUISANCE, MISCHIEF   07/17/2010 09:00:00 PM   \n",
       "\n",
       "              Hundred Block Location District/Sector Zone/Beat  Census Tract  \\\n",
       "0               3XX BLOCK OF PINE ST               M        M2     8100.2001   \n",
       "1  36XX BLOCK OF DISCOVERY PARK BLVD               Q        Q1     5700.1012   \n",
       "2              21XX BLOCK OF 3RD AVE               M        M2     7200.2025   \n",
       "3                7XX BLOCK OF ROY ST               D        D1     7200.1002   \n",
       "4              9XX BLOCK OF ALOHA ST               D        D1     6700.1009   \n",
       "\n",
       "    Longitude   Latitude               Incident Location  \\\n",
       "0 -122.338147  47.610975  (47.610975163, -122.338146748)   \n",
       "1 -122.404613  47.658325  (47.658324899, -122.404612874)   \n",
       "2 -122.342843  47.613551  (47.613551471, -122.342843234)   \n",
       "3 -122.341847  47.625401  (47.625401388, -122.341846999)   \n",
       "4 -122.339709  47.627425  (47.627424837, -122.339708605)   \n",
       "\n",
       "  Initial Type Description Initial Type Subgroup Initial Type Group  \\\n",
       "0                      NaN                   NaN                NaN   \n",
       "1                      NaN                   NaN                NaN   \n",
       "2                      NaN                   NaN                NaN   \n",
       "3                      NaN                   NaN                NaN   \n",
       "4                      NaN                   NaN                NaN   \n",
       "\n",
       "  At Scene Time  \n",
       "0           NaN  \n",
       "1           NaN  \n",
       "2           NaN  \n",
       "3           NaN  \n",
       "4           NaN  "
      ]
     },
     "execution_count": 3,
     "metadata": {},
     "output_type": "execute_result"
    }
   ],
   "source": [
    "rawCallData.head()"
   ]
  },
  {
   "cell_type": "code",
   "execution_count": 4,
   "metadata": {},
   "outputs": [
    {
     "data": {
      "text/html": [
       "<div>\n",
       "<table border=\"1\" class=\"dataframe\">\n",
       "  <thead>\n",
       "    <tr style=\"text-align: right;\">\n",
       "      <th></th>\n",
       "      <th>dt</th>\n",
       "      <th>dt_iso</th>\n",
       "      <th>city_id</th>\n",
       "      <th>city_name</th>\n",
       "      <th>lat</th>\n",
       "      <th>lon</th>\n",
       "      <th>temp</th>\n",
       "      <th>temp_min</th>\n",
       "      <th>temp_max</th>\n",
       "      <th>pressure</th>\n",
       "      <th>...</th>\n",
       "      <th>rain_today</th>\n",
       "      <th>snow_1h</th>\n",
       "      <th>snow_3h</th>\n",
       "      <th>snow_24h</th>\n",
       "      <th>snow_today</th>\n",
       "      <th>clouds_all</th>\n",
       "      <th>weather_id</th>\n",
       "      <th>weather_main</th>\n",
       "      <th>weather_description</th>\n",
       "      <th>weather_icon</th>\n",
       "    </tr>\n",
       "  </thead>\n",
       "  <tbody>\n",
       "    <tr>\n",
       "      <th>0</th>\n",
       "      <td>1349096400</td>\n",
       "      <td>2012-10-01 13:00:00 +0000 UTC</td>\n",
       "      <td>5809844</td>\n",
       "      <td>NaN</td>\n",
       "      <td>NaN</td>\n",
       "      <td>NaN</td>\n",
       "      <td>281.80</td>\n",
       "      <td>278.15</td>\n",
       "      <td>287.59</td>\n",
       "      <td>1027</td>\n",
       "      <td>...</td>\n",
       "      <td>NaN</td>\n",
       "      <td>NaN</td>\n",
       "      <td>NaN</td>\n",
       "      <td>NaN</td>\n",
       "      <td>NaN</td>\n",
       "      <td>1</td>\n",
       "      <td>800</td>\n",
       "      <td>Clear</td>\n",
       "      <td>sky is clear</td>\n",
       "      <td>01n</td>\n",
       "    </tr>\n",
       "    <tr>\n",
       "      <th>1</th>\n",
       "      <td>1349186400</td>\n",
       "      <td>2012-10-02 14:00:00 +0000 UTC</td>\n",
       "      <td>5809844</td>\n",
       "      <td>NaN</td>\n",
       "      <td>NaN</td>\n",
       "      <td>NaN</td>\n",
       "      <td>281.62</td>\n",
       "      <td>278.15</td>\n",
       "      <td>286.48</td>\n",
       "      <td>1046</td>\n",
       "      <td>...</td>\n",
       "      <td>NaN</td>\n",
       "      <td>NaN</td>\n",
       "      <td>NaN</td>\n",
       "      <td>NaN</td>\n",
       "      <td>NaN</td>\n",
       "      <td>66</td>\n",
       "      <td>800</td>\n",
       "      <td>Clear</td>\n",
       "      <td>sky is clear</td>\n",
       "      <td>02d</td>\n",
       "    </tr>\n",
       "    <tr>\n",
       "      <th>2</th>\n",
       "      <td>1349190000</td>\n",
       "      <td>2012-10-02 15:00:00 +0000 UTC</td>\n",
       "      <td>5809844</td>\n",
       "      <td>NaN</td>\n",
       "      <td>NaN</td>\n",
       "      <td>NaN</td>\n",
       "      <td>282.71</td>\n",
       "      <td>279.82</td>\n",
       "      <td>289.82</td>\n",
       "      <td>1026</td>\n",
       "      <td>...</td>\n",
       "      <td>NaN</td>\n",
       "      <td>NaN</td>\n",
       "      <td>NaN</td>\n",
       "      <td>NaN</td>\n",
       "      <td>NaN</td>\n",
       "      <td>1</td>\n",
       "      <td>800</td>\n",
       "      <td>Clear</td>\n",
       "      <td>sky is clear</td>\n",
       "      <td>01d</td>\n",
       "    </tr>\n",
       "    <tr>\n",
       "      <th>3</th>\n",
       "      <td>1349193600</td>\n",
       "      <td>2012-10-02 16:00:00 +0000 UTC</td>\n",
       "      <td>5809844</td>\n",
       "      <td>NaN</td>\n",
       "      <td>NaN</td>\n",
       "      <td>NaN</td>\n",
       "      <td>285.05</td>\n",
       "      <td>281.48</td>\n",
       "      <td>293.15</td>\n",
       "      <td>1026</td>\n",
       "      <td>...</td>\n",
       "      <td>NaN</td>\n",
       "      <td>NaN</td>\n",
       "      <td>NaN</td>\n",
       "      <td>NaN</td>\n",
       "      <td>NaN</td>\n",
       "      <td>1</td>\n",
       "      <td>800</td>\n",
       "      <td>Clear</td>\n",
       "      <td>sky is clear</td>\n",
       "      <td>01d</td>\n",
       "    </tr>\n",
       "    <tr>\n",
       "      <th>4</th>\n",
       "      <td>1349197200</td>\n",
       "      <td>2012-10-02 17:00:00 +0000 UTC</td>\n",
       "      <td>5809844</td>\n",
       "      <td>NaN</td>\n",
       "      <td>NaN</td>\n",
       "      <td>NaN</td>\n",
       "      <td>287.97</td>\n",
       "      <td>282.59</td>\n",
       "      <td>296.48</td>\n",
       "      <td>1027</td>\n",
       "      <td>...</td>\n",
       "      <td>NaN</td>\n",
       "      <td>NaN</td>\n",
       "      <td>NaN</td>\n",
       "      <td>NaN</td>\n",
       "      <td>NaN</td>\n",
       "      <td>1</td>\n",
       "      <td>800</td>\n",
       "      <td>Clear</td>\n",
       "      <td>sky is clear</td>\n",
       "      <td>01d</td>\n",
       "    </tr>\n",
       "  </tbody>\n",
       "</table>\n",
       "<p>5 rows × 28 columns</p>\n",
       "</div>"
      ],
      "text/plain": [
       "           dt                         dt_iso  city_id  city_name  lat  lon  \\\n",
       "0  1349096400  2012-10-01 13:00:00 +0000 UTC  5809844        NaN  NaN  NaN   \n",
       "1  1349186400  2012-10-02 14:00:00 +0000 UTC  5809844        NaN  NaN  NaN   \n",
       "2  1349190000  2012-10-02 15:00:00 +0000 UTC  5809844        NaN  NaN  NaN   \n",
       "3  1349193600  2012-10-02 16:00:00 +0000 UTC  5809844        NaN  NaN  NaN   \n",
       "4  1349197200  2012-10-02 17:00:00 +0000 UTC  5809844        NaN  NaN  NaN   \n",
       "\n",
       "     temp  temp_min  temp_max  pressure      ...       rain_today  snow_1h  \\\n",
       "0  281.80    278.15    287.59      1027      ...              NaN      NaN   \n",
       "1  281.62    278.15    286.48      1046      ...              NaN      NaN   \n",
       "2  282.71    279.82    289.82      1026      ...              NaN      NaN   \n",
       "3  285.05    281.48    293.15      1026      ...              NaN      NaN   \n",
       "4  287.97    282.59    296.48      1027      ...              NaN      NaN   \n",
       "\n",
       "   snow_3h  snow_24h  snow_today  clouds_all  weather_id  weather_main  \\\n",
       "0      NaN       NaN         NaN           1         800         Clear   \n",
       "1      NaN       NaN         NaN          66         800         Clear   \n",
       "2      NaN       NaN         NaN           1         800         Clear   \n",
       "3      NaN       NaN         NaN           1         800         Clear   \n",
       "4      NaN       NaN         NaN           1         800         Clear   \n",
       "\n",
       "   weather_description  weather_icon  \n",
       "0         sky is clear           01n  \n",
       "1         sky is clear           02d  \n",
       "2         sky is clear           01d  \n",
       "3         sky is clear           01d  \n",
       "4         sky is clear           01d  \n",
       "\n",
       "[5 rows x 28 columns]"
      ]
     },
     "execution_count": 4,
     "metadata": {},
     "output_type": "execute_result"
    }
   ],
   "source": [
    "rawWeatherData.head()"
   ]
  },
  {
   "cell_type": "markdown",
   "metadata": {},
   "source": [
    "### Let's start by cleaning up those column names in rawCallData"
   ]
  },
  {
   "cell_type": "code",
   "execution_count": 5,
   "metadata": {},
   "outputs": [
    {
     "data": {
      "text/plain": [
       "Index(['cad_cdw_id', 'cad_event_number', 'general_offense_number',\n",
       "       'event_clearance_code', 'event_clearance_description',\n",
       "       'event_clearance_subgroup', 'event_clearance_group',\n",
       "       'event_clearance_date', 'hundred_block_location', 'district_sector',\n",
       "       'zone_beat', 'census_tract', 'longitude', 'latitude',\n",
       "       'incident_location', 'initial_type_description',\n",
       "       'initial_type_subgroup', 'initial_type_group', 'at_scene_time'],\n",
       "      dtype='object')"
      ]
     },
     "execution_count": 5,
     "metadata": {},
     "output_type": "execute_result"
    }
   ],
   "source": [
    "rawCallData.columns = rawCallData.columns.str.lower().str.replace(\" \", \"_\").str.replace(\"/\", \"_\") \n",
    "# Remove the white space and slashes in our column names\n",
    "rawCallData.columns # Check our work"
   ]
  },
  {
   "cell_type": "markdown",
   "metadata": {},
   "source": [
    "### Thats better, now lets examine the NaN values, starting with rawCallData"
   ]
  },
  {
   "cell_type": "code",
   "execution_count": 6,
   "metadata": {},
   "outputs": [
    {
     "name": "stdout",
     "output_type": "stream",
     "text": [
      "cad_cdw_id                           0\n",
      "cad_event_number                     0\n",
      "general_offense_number               0\n",
      "event_clearance_code             10797\n",
      "event_clearance_description      10798\n",
      "event_clearance_subgroup         10798\n",
      "event_clearance_group            10798\n",
      "event_clearance_date             10951\n",
      "hundred_block_location            3487\n",
      "district_sector                   1162\n",
      "zone_beat                            1\n",
      "census_tract                      2792\n",
      "longitude                            1\n",
      "latitude                             1\n",
      "incident_location                    1\n",
      "initial_type_description        577813\n",
      "initial_type_subgroup           577813\n",
      "initial_type_group              577813\n",
      "at_scene_time                  1029344\n",
      "dtype: int64\n"
     ]
    }
   ],
   "source": [
    "print(rawCallData.isnull().sum())"
   ]
  },
  {
   "cell_type": "markdown",
   "metadata": {},
   "source": [
    "### We have a significant number of records missing some information\n",
    "They seem to be clustered. There is a cluster of 10,790+ records missing event data, 577,813 records missing initial data and a third large cluster where most of the records are missing  at scene time. The event clearance and initial type columns seem to all describe the same data, what the call was about. The at scene time and call clearance date similiarly overlap. The bad news is, most of the missing data pertains to what we care about, which is what happened and when. They good news is these columns seem to provide redundant information, so we can use one to impute the other. We can see a few columns provide no relevant information and can be dropped, subgroup and group. Let's see if there are any records that provide no relevant information."
   ]
  },
  {
   "cell_type": "code",
   "execution_count": 7,
   "metadata": {
    "collapsed": true
   },
   "outputs": [],
   "source": [
    "rawCallData.drop(['event_clearance_subgroup', 'event_clearance_group', 'initial_type_subgroup', \n",
    "                  'initial_type_group'], axis=1,inplace=True)"
   ]
  },
  {
   "cell_type": "code",
   "execution_count": 8,
   "metadata": {},
   "outputs": [
    {
     "name": "stdout",
     "output_type": "stream",
     "text": [
      "(932, 15)\n"
     ]
    }
   ],
   "source": [
    "mask = (rawCallData.event_clearance_description.isnull()) & (rawCallData.initial_type_description.isnull())\n",
    "noEvent = rawCallData[mask] # Our mask selects records that have a null value in both description columns\n",
    "print(noEvent.shape) # Check the size of our haul"
   ]
  },
  {
   "cell_type": "markdown",
   "metadata": {},
   "source": [
    "### We have 932 records with no event descriptor, we will have to remove them"
   ]
  },
  {
   "cell_type": "code",
   "execution_count": 9,
   "metadata": {},
   "outputs": [
    {
     "name": "stdout",
     "output_type": "stream",
     "text": [
      "(1445066, 15)\n",
      "(1444134, 15)\n"
     ]
    }
   ],
   "source": [
    "print(rawCallData.shape) # Check original datafile shape\n",
    "rawCallData = rawCallData[~mask] # Remove by selecting the inverse of our mask as subset\n",
    "print(rawCallData.shape) # Verify our subtraction"
   ]
  },
  {
   "cell_type": "code",
   "execution_count": 10,
   "metadata": {},
   "outputs": [
    {
     "name": "stdout",
     "output_type": "stream",
     "text": [
      "(9, 15)\n"
     ]
    }
   ],
   "source": [
    "mask2 = (rawCallData.at_scene_time.isnull()) & (rawCallData.event_clearance_date.isnull())\n",
    "noTime = rawCallData[mask2] # Our mask selects records that have a null value in both time columns\n",
    "print(noTime.shape) # Check the size of our haul"
   ]
  },
  {
   "cell_type": "markdown",
   "metadata": {},
   "source": [
    "### We have 9 records with no time, we will have to remove them"
   ]
  },
  {
   "cell_type": "code",
   "execution_count": 11,
   "metadata": {},
   "outputs": [
    {
     "name": "stdout",
     "output_type": "stream",
     "text": [
      "(1444134, 15)\n",
      "(1444125, 15)\n"
     ]
    }
   ],
   "source": [
    "print(rawCallData.shape) # Check original datafile shape\n",
    "rawCallData = rawCallData[~mask2] # Remove by selecting the inverse of our mask as subset\n",
    "print(rawCallData.shape) # Verify our subtraction"
   ]
  },
  {
   "cell_type": "markdown",
   "metadata": {},
   "source": [
    "### Looking again at the time values,\n",
    "We can only use the overlap in our data sets date range, so lets switch gears and make sure that our dataframes cover the same time period. Continuing to clean up the null values in rawCallData could be a waste if those records don't overlap with our weather data. We will start by cleaning up the assorted time columns and getting one formatted datetime column."
   ]
  },
  {
   "cell_type": "code",
   "execution_count": 12,
   "metadata": {
    "collapsed": true
   },
   "outputs": [],
   "source": [
    "rawCallData['formatted_time'] = pd.to_datetime(rawCallData.event_clearance_date, errors='coerce', \n",
    "                                               infer_datetime_format=True)"
   ]
  },
  {
   "cell_type": "code",
   "execution_count": 13,
   "metadata": {},
   "outputs": [
    {
     "data": {
      "text/plain": [
       "0   2010-07-17 20:49:00\n",
       "1   2010-07-17 20:50:00\n",
       "2   2010-07-17 20:55:00\n",
       "3   2010-07-17 21:00:00\n",
       "4   2010-07-17 21:00:00\n",
       "Name: formatted_time, dtype: datetime64[ns]"
      ]
     },
     "execution_count": 13,
     "metadata": {},
     "output_type": "execute_result"
    }
   ],
   "source": [
    "rawCallData.formatted_time.head()"
   ]
  },
  {
   "cell_type": "code",
   "execution_count": 47,
   "metadata": {},
   "outputs": [],
   "source": [
    "rawWeatherData['formatted_time'] = pd.to_datetime(rawWeatherData.dt, unit='s')"
   ]
  },
  {
   "cell_type": "code",
   "execution_count": 48,
   "metadata": {},
   "outputs": [
    {
     "data": {
      "text/plain": [
       "0   2012-10-01 13:00:00\n",
       "1   2012-10-02 14:00:00\n",
       "2   2012-10-02 15:00:00\n",
       "3   2012-10-02 16:00:00\n",
       "4   2012-10-02 17:00:00\n",
       "Name: formatted_time, dtype: datetime64[ns]"
      ]
     },
     "execution_count": 48,
     "metadata": {},
     "output_type": "execute_result"
    }
   ],
   "source": [
    "rawWeatherData.formatted_time.head()"
   ]
  },
  {
   "cell_type": "markdown",
   "metadata": {},
   "source": [
    "### We can see this matches the UTC time, so we need to convert to PDT.\n",
    "This is a three step process, first changing our naive time to UTC zone aware time, then converting to PDT through a lambda function. We can't use tz_convert inline because it defaults to changing the index rather than the value. We then undo making it zone aware with tz_localize as another lambda function."
   ]
  },
  {
   "cell_type": "code",
   "execution_count": 49,
   "metadata": {},
   "outputs": [
    {
     "data": {
      "text/plain": [
       "0   2012-10-01 06:00:00\n",
       "1   2012-10-02 07:00:00\n",
       "2   2012-10-02 08:00:00\n",
       "3   2012-10-02 09:00:00\n",
       "4   2012-10-02 10:00:00\n",
       "Name: formatted_time, dtype: datetime64[ns]"
      ]
     },
     "execution_count": 49,
     "metadata": {},
     "output_type": "execute_result"
    }
   ],
   "source": [
    "rawWeatherData.formatted_time = rawWeatherData.formatted_time.dt.tz_localize('UTC')\n",
    "rawWeatherData.formatted_time = rawWeatherData.formatted_time.apply(lambda x: x.tz_convert('America/Los_Angeles'))\n",
    "rawWeatherData.formatted_time = rawWeatherData.formatted_time.apply(lambda x: x.tz_localize(None))\n",
    "\n",
    "rawWeatherData.formatted_time.head()"
   ]
  },
  {
   "cell_type": "code",
   "execution_count": 50,
   "metadata": {
    "collapsed": true
   },
   "outputs": [],
   "source": [
    "mask3 = (rawCallData.formatted_time > '2012-10-01 13:00:00')\n",
    "rawCallData = rawCallData[mask3]"
   ]
  },
  {
   "cell_type": "code",
   "execution_count": 51,
   "metadata": {},
   "outputs": [
    {
     "data": {
      "text/plain": [
       "(879393, 16)"
      ]
     },
     "execution_count": 51,
     "metadata": {},
     "output_type": "execute_result"
    }
   ],
   "source": [
    "rawCallData.shape"
   ]
  },
  {
   "cell_type": "code",
   "execution_count": 52,
   "metadata": {},
   "outputs": [
    {
     "data": {
      "text/plain": [
       "cad_cdw_id                          0\n",
       "cad_event_number                    0\n",
       "general_offense_number              0\n",
       "event_clearance_code                0\n",
       "event_clearance_description         0\n",
       "event_clearance_date                0\n",
       "hundred_block_location              1\n",
       "district_sector                   937\n",
       "zone_beat                           0\n",
       "census_tract                     1615\n",
       "longitude                           0\n",
       "latitude                            0\n",
       "incident_location                   0\n",
       "initial_type_description        72663\n",
       "at_scene_time                  516351\n",
       "formatted_time                      0\n",
       "dtype: int64"
      ]
     },
     "execution_count": 52,
     "metadata": {},
     "output_type": "execute_result"
    }
   ],
   "source": [
    "rawCallData.isnull().sum()"
   ]
  },
  {
   "cell_type": "markdown",
   "metadata": {},
   "source": [
    "# This is an important learning note:\n",
    "# _Always start with a plan_\n",
    "To be honest when cleaning this data, I just started with the 911 call data, looking for ways to clean out the NaN values. I'm leaving the original plan in this notebook, which was to use one column to impute the other, without regard to the bigger picture. This involved some neat data cleaning tricks, but in the end would have been completely wasted work. Without the corresponding weather data, those records are worthless to us. Luckily, I stopped and thought it out after hitting a few road blocks, realizing that the work might not be necessary. Turns out had I stopped and made a plan in the first place, I could've save quite a bit of time.\n",
    "## _Always make a plan and then tackle your data, don't just start coding_\n",
    "### Duly noted, on we go"
   ]
  },
  {
   "cell_type": "markdown",
   "metadata": {
    "collapsed": true
   },
   "source": [
    "#### We can drop the remaining columns with null values and redundant data"
   ]
  },
  {
   "cell_type": "code",
   "execution_count": 58,
   "metadata": {},
   "outputs": [
    {
     "data": {
      "text/plain": [
       "(879393, 9)"
      ]
     },
     "execution_count": 58,
     "metadata": {},
     "output_type": "execute_result"
    }
   ],
   "source": [
    "rawCallData.drop(['event_clearance_date', 'hundred_block_location', 'district_sector', 'census_tract',\n",
    "                 'incident_location', 'initial_type_description', 'at_scene_time'], inplace=True, axis=1)\n",
    "rawCallData.shape"
   ]
  },
  {
   "cell_type": "code",
   "execution_count": 59,
   "metadata": {},
   "outputs": [
    {
     "data": {
      "text/html": [
       "<div>\n",
       "<table border=\"1\" class=\"dataframe\">\n",
       "  <thead>\n",
       "    <tr style=\"text-align: right;\">\n",
       "      <th></th>\n",
       "      <th>cad_cdw_id</th>\n",
       "      <th>cad_event_number</th>\n",
       "      <th>general_offense_number</th>\n",
       "      <th>event_clearance_code</th>\n",
       "      <th>event_clearance_description</th>\n",
       "      <th>zone_beat</th>\n",
       "      <th>longitude</th>\n",
       "      <th>latitude</th>\n",
       "      <th>formatted_time</th>\n",
       "    </tr>\n",
       "  </thead>\n",
       "  <tbody>\n",
       "    <tr>\n",
       "      <th>49</th>\n",
       "      <td>1658027</td>\n",
       "      <td>16000028163</td>\n",
       "      <td>201628163</td>\n",
       "      <td>245.0</td>\n",
       "      <td>DISTURBANCE, OTHER</td>\n",
       "      <td>N2</td>\n",
       "      <td>-122.347770</td>\n",
       "      <td>47.731678</td>\n",
       "      <td>2016-01-24 11:54:55</td>\n",
       "    </tr>\n",
       "    <tr>\n",
       "      <th>70</th>\n",
       "      <td>1658028</td>\n",
       "      <td>16000028161</td>\n",
       "      <td>201628161</td>\n",
       "      <td>280.0</td>\n",
       "      <td>SUSPICIOUS PERSON</td>\n",
       "      <td>S1</td>\n",
       "      <td>-122.280685</td>\n",
       "      <td>47.523026</td>\n",
       "      <td>2016-01-24 11:57:35</td>\n",
       "    </tr>\n",
       "    <tr>\n",
       "      <th>105</th>\n",
       "      <td>1658029</td>\n",
       "      <td>16000028159</td>\n",
       "      <td>201628159</td>\n",
       "      <td>65.0</td>\n",
       "      <td>THEFT - MISCELLANEOUS</td>\n",
       "      <td>M1</td>\n",
       "      <td>-122.342000</td>\n",
       "      <td>47.609535</td>\n",
       "      <td>2016-01-24 11:54:28</td>\n",
       "    </tr>\n",
       "    <tr>\n",
       "      <th>190</th>\n",
       "      <td>1658030</td>\n",
       "      <td>16000028134</td>\n",
       "      <td>201628134</td>\n",
       "      <td>200.0</td>\n",
       "      <td>ALACAD - COMMERCIAL BURGLARY (FALSE)</td>\n",
       "      <td>U1</td>\n",
       "      <td>-122.313020</td>\n",
       "      <td>47.668995</td>\n",
       "      <td>2016-01-24 11:53:22</td>\n",
       "    </tr>\n",
       "    <tr>\n",
       "      <th>255</th>\n",
       "      <td>1658031</td>\n",
       "      <td>16000028114</td>\n",
       "      <td>201628114</td>\n",
       "      <td>161.0</td>\n",
       "      <td>TRESPASS</td>\n",
       "      <td>D2</td>\n",
       "      <td>-122.344670</td>\n",
       "      <td>47.641580</td>\n",
       "      <td>2016-01-24 11:59:45</td>\n",
       "    </tr>\n",
       "  </tbody>\n",
       "</table>\n",
       "</div>"
      ],
      "text/plain": [
       "    cad_cdw_id  cad_event_number  general_offense_number  \\\n",
       "49     1658027       16000028163               201628163   \n",
       "70     1658028       16000028161               201628161   \n",
       "105    1658029       16000028159               201628159   \n",
       "190    1658030       16000028134               201628134   \n",
       "255    1658031       16000028114               201628114   \n",
       "\n",
       "     event_clearance_code           event_clearance_description zone_beat  \\\n",
       "49                  245.0                    DISTURBANCE, OTHER        N2   \n",
       "70                  280.0                     SUSPICIOUS PERSON        S1   \n",
       "105                  65.0                 THEFT - MISCELLANEOUS        M1   \n",
       "190                 200.0  ALACAD - COMMERCIAL BURGLARY (FALSE)        U1   \n",
       "255                 161.0                              TRESPASS        D2   \n",
       "\n",
       "      longitude   latitude      formatted_time  \n",
       "49  -122.347770  47.731678 2016-01-24 11:54:55  \n",
       "70  -122.280685  47.523026 2016-01-24 11:57:35  \n",
       "105 -122.342000  47.609535 2016-01-24 11:54:28  \n",
       "190 -122.313020  47.668995 2016-01-24 11:53:22  \n",
       "255 -122.344670  47.641580 2016-01-24 11:59:45  "
      ]
     },
     "execution_count": 59,
     "metadata": {},
     "output_type": "execute_result"
    }
   ],
   "source": [
    "rawCallData.head()"
   ]
  },
  {
   "cell_type": "markdown",
   "metadata": {
    "collapsed": true
   },
   "source": [
    "### Now we can look to see if the event numbers and ID numbers offer anything other for us than redundant information"
   ]
  },
  {
   "cell_type": "code",
   "execution_count": 61,
   "metadata": {},
   "outputs": [
    {
     "name": "stdout",
     "output_type": "stream",
     "text": [
      "879367\n",
      "878480\n",
      "878480\n"
     ]
    }
   ],
   "source": [
    "print(rawCallData.cad_cdw_id.nunique())\n",
    "print(rawCallData.cad_event_number.nunique())\n",
    "print(rawCallData.general_offense_number.nunique())"
   ]
  }
 ],
 "metadata": {
  "kernelspec": {
   "display_name": "Python 3",
   "language": "python",
   "name": "python3"
  },
  "language_info": {
   "codemirror_mode": {
    "name": "ipython",
    "version": 3
   },
   "file_extension": ".py",
   "mimetype": "text/x-python",
   "name": "python",
   "nbconvert_exporter": "python",
   "pygments_lexer": "ipython3",
   "version": "3.6.0"
  }
 },
 "nbformat": 4,
 "nbformat_minor": 2
}
